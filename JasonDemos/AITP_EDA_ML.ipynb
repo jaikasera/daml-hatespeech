{
 "cells": [
  {
   "cell_type": "code",
   "execution_count": null,
   "id": "c2bacf96",
   "metadata": {},
   "outputs": [],
   "source": [
    "import pandas as pd\n",
    "import numpy as np\n",
    "from sklearn.experimental import enable_iterative_imputer\n",
    "from sklearn.impute import SimpleImputer, IterativeImputer\n",
    "from sklearn import preprocessing\n",
    "import matplotlib.pyplot as plt\n",
    "import seaborn as sns"
   ]
  },
  {
   "cell_type": "code",
   "execution_count": null,
   "id": "71ae1587",
   "metadata": {},
   "outputs": [],
   "source": [
    "# import data \n",
    "churn = pd.read_csv('data/ecommerce_churn.csv')"
   ]
  },
  {
   "cell_type": "code",
   "execution_count": null,
   "id": "d4ce2562",
   "metadata": {
    "scrolled": true
   },
   "outputs": [],
   "source": [
    "#observe the data\n",
    "churn.head()"
   ]
  },
  {
   "cell_type": "code",
   "execution_count": null,
   "id": "a99ff429",
   "metadata": {
    "scrolled": true
   },
   "outputs": [],
   "source": [
    "len(churn.columns)"
   ]
  },
  {
   "cell_type": "code",
   "execution_count": null,
   "id": "b8c9f5ea",
   "metadata": {},
   "outputs": [],
   "source": [
    "len(churn)"
   ]
  },
  {
   "cell_type": "markdown",
   "id": "490e9cf8",
   "metadata": {},
   "source": [
    "# Column Definitions:\n",
    "\n",
    "- CustomerID: Unique customer ID\n",
    "- Churn: Churn Flag\n",
    "- Tenure: Tenure of customer in organization\n",
    "- PreferredLoginDevice: Preferred login device of customer\n",
    "- CityTier: City Tier\n",
    "- WarehouseToHome: Distance in between warehouse to home of customer\n",
    "- PreferredPaymentMode: Preferred payment method of customer\n",
    "- Gender: Gender of customer\n",
    "- HourSpendOnApp: Number of hours spend on mobile application or website\n",
    "- NumberOfDeviceRegistered: Total number of deceives is registered on particular customer\n",
    "- PreferedOrderCat: Preferred order category of customer in last month\n",
    "- SatisfactionScore: Satisfactory score of customer on service\n",
    "- MaritalStatus: Marital status of customer\n",
    "- NumberOfAddress: Total number of added added on particular customer\n",
    "- Complain: Any complaint has been raised in last month\n",
    "- OrderAmountHikeFromlastYear: Percentage increases in order from last year\n",
    "- CouponUsed: Total number of coupon has been used in last month\n",
    "- OrderCount: Total number of orders has been places in last month\n",
    "- DaySinceLastOrder: Day Since last order by customer\n",
    "- CashbackAmount: Average cashback in last month!"
   ]
  },
  {
   "cell_type": "markdown",
   "id": "8a449492",
   "metadata": {},
   "source": [
    "## Data Cleaning/EDA:"
   ]
  },
  {
   "cell_type": "code",
   "execution_count": null,
   "id": "dd4fa86a",
   "metadata": {},
   "outputs": [],
   "source": [
    "churn = churn.drop(columns=['CustomerID'])"
   ]
  },
  {
   "cell_type": "code",
   "execution_count": null,
   "id": "93eb9436",
   "metadata": {},
   "outputs": [],
   "source": [
    "numerical = churn.select_dtypes(include=['int', 'float']).columns.tolist()"
   ]
  },
  {
   "cell_type": "code",
   "execution_count": null,
   "id": "a4f6d025",
   "metadata": {},
   "outputs": [],
   "source": [
    "# check for null values\n",
    "for col in churn.columns:\n",
    "    print(col+' : '+str(sum(churn[col].isna())))"
   ]
  },
  {
   "cell_type": "code",
   "execution_count": null,
   "id": "19432b48",
   "metadata": {},
   "outputs": [],
   "source": [
    "churn.isna().mean(axis=1).value_counts()"
   ]
  },
  {
   "cell_type": "code",
   "execution_count": null,
   "id": "9182ce2a",
   "metadata": {},
   "outputs": [],
   "source": [
    "missing_cols = ['Tenure','WarehouseToHome','HourSpendOnApp','OrderAmountHikeFromlastYear','CouponUsed','OrderCount','DaySinceLastOrder']\n",
    "\n"
   ]
  },
  {
   "cell_type": "code",
   "execution_count": null,
   "id": "60342545",
   "metadata": {},
   "outputs": [],
   "source": [
    "### fill it in! \n",
    "mean_imputer = SimpleImputer(missing_values=np.nan, strategy=\"mean\")\n",
    "churn[missing_cols] = mean_imputer.fit_transform(churn[missing_cols])"
   ]
  },
  {
   "cell_type": "markdown",
   "id": "41201813",
   "metadata": {},
   "source": [
    "#### What can we infer from the heatmap?"
   ]
  },
  {
   "cell_type": "code",
   "execution_count": null,
   "id": "5e76cf65",
   "metadata": {},
   "outputs": [],
   "source": [
    "## Pearson Correlation\n",
    "plt.figure(figsize=(20,20))\n",
    "plt.title('Pearson Correlation of Features', size = 15)\n",
    "colormap = sns.diverging_palette(10, 220, as_cmap = True)\n",
    "sns.heatmap(churn[numerical].corr(),\n",
    "            cmap = colormap,\n",
    "            square = True,\n",
    "            annot = True,\n",
    "            linewidths=0.1,vmax=1.0, linecolor='white',\n",
    "            annot_kws={'fontsize':12 })\n",
    "plt.show()"
   ]
  },
  {
   "cell_type": "markdown",
   "id": "ea3732e9",
   "metadata": {},
   "source": [
    "#### Let's make some visualizations!"
   ]
  },
  {
   "cell_type": "code",
   "execution_count": null,
   "id": "5f50b6e6",
   "metadata": {},
   "outputs": [],
   "source": [
    "##To-Do as exercise!"
   ]
  },
  {
   "cell_type": "code",
   "execution_count": null,
   "id": "99771f99",
   "metadata": {},
   "outputs": [],
   "source": []
  },
  {
   "cell_type": "markdown",
   "id": "f7768d8c",
   "metadata": {},
   "source": [
    "#### Dealing with categorical data\n"
   ]
  },
  {
   "cell_type": "code",
   "execution_count": null,
   "id": "947605f6",
   "metadata": {},
   "outputs": [],
   "source": [
    "## categorical data\n",
    "churn['Churn'].value_counts()"
   ]
  },
  {
   "cell_type": "code",
   "execution_count": null,
   "id": "dc8a7dd6",
   "metadata": {},
   "outputs": [],
   "source": [
    "churn['Gender'].value_counts()"
   ]
  },
  {
   "cell_type": "code",
   "execution_count": null,
   "id": "f3d3bebe",
   "metadata": {
    "scrolled": true
   },
   "outputs": [],
   "source": [
    "churn['MaritalStatus'].value_counts()"
   ]
  },
  {
   "cell_type": "code",
   "execution_count": null,
   "id": "335f7f14",
   "metadata": {
    "scrolled": true
   },
   "outputs": [],
   "source": [
    "churn['PreferredLoginDevice'].value_counts()"
   ]
  },
  {
   "cell_type": "code",
   "execution_count": null,
   "id": "c22a48b9",
   "metadata": {},
   "outputs": [],
   "source": [
    "churn['PreferedOrderCat'].value_counts()"
   ]
  },
  {
   "cell_type": "markdown",
   "id": "e2e3021a",
   "metadata": {},
   "source": [
    "### Can we reduce the cardinality of the features? "
   ]
  },
  {
   "cell_type": "code",
   "execution_count": null,
   "id": "f63f6449",
   "metadata": {},
   "outputs": [],
   "source": [
    "# Data Cleaning\n",
    "churn['PreferredLoginDevice'].replace({'Mobile Phone':'Phone'},inplace=True)"
   ]
  },
  {
   "cell_type": "code",
   "execution_count": null,
   "id": "d229ac97",
   "metadata": {},
   "outputs": [],
   "source": [
    "churn['MaritalStatus'].replace({'Divorced':'Single'},inplace=True)"
   ]
  },
  {
   "cell_type": "markdown",
   "id": "bdf3944c",
   "metadata": {},
   "source": [
    "## Feature Engineering:"
   ]
  },
  {
   "cell_type": "code",
   "execution_count": null,
   "id": "95cdc3e0",
   "metadata": {},
   "outputs": [],
   "source": [
    "def create_interaction(df,var1,var2):\n",
    "    name = var1 + \"*\" + var2\n",
    "    df[name] = pd.Series(df[var1] + df[var2], name=name)"
   ]
  },
  {
   "cell_type": "code",
   "execution_count": null,
   "id": "c1dff5b0",
   "metadata": {},
   "outputs": [],
   "source": [
    "create_interaction(churn,'Gender','MaritalStatus')"
   ]
  },
  {
   "cell_type": "code",
   "execution_count": null,
   "id": "aac8887d",
   "metadata": {
    "scrolled": true
   },
   "outputs": [],
   "source": [
    "# one-hot encoding\n",
    "poc_ohe = pd.get_dummies(churn['PreferedOrderCat'])\n",
    "churn = pd.concat([churn,poc_ohe],axis= 1)"
   ]
  },
  {
   "cell_type": "code",
   "execution_count": null,
   "id": "ad649e77",
   "metadata": {},
   "outputs": [],
   "source": [
    "# one-hot encoding\n",
    "gm_ohe = pd.get_dummies(churn['Gender*MaritalStatus'])\n",
    "churn = pd.concat([churn,gm_ohe],axis= 1)"
   ]
  },
  {
   "cell_type": "code",
   "execution_count": null,
   "id": "247680a5",
   "metadata": {},
   "outputs": [],
   "source": [
    "# we forgot something...\n",
    "churn.drop(['PreferedOrderCat', 'Gender','MaritalStatus','Gender*MaritalStatus'], axis=1,inplace=True)"
   ]
  },
  {
   "cell_type": "code",
   "execution_count": null,
   "id": "150711f9",
   "metadata": {
    "scrolled": true
   },
   "outputs": [],
   "source": [
    "# # ALTERNATIVE: label encoding\n",
    "# le = preprocessing.LabelEncoder()\n",
    "# churn['Gender'] = le.fit_transform(churn['Gender'])\n",
    "# churn['MaritalStatus'] = le.fit_transform(churn['MaritalStatus'])"
   ]
  },
  {
   "cell_type": "code",
   "execution_count": null,
   "id": "1c2c521c",
   "metadata": {},
   "outputs": [],
   "source": [
    "le = preprocessing.LabelEncoder()\n",
    "churn['PreferredLoginDevice'] = le.fit_transform(churn['PreferredLoginDevice'])"
   ]
  },
  {
   "cell_type": "code",
   "execution_count": null,
   "id": "0ad984fb",
   "metadata": {},
   "outputs": [],
   "source": [
    "churn"
   ]
  },
  {
   "cell_type": "markdown",
   "id": "19b24965",
   "metadata": {},
   "source": [
    "## Model Training + Evaluation"
   ]
  },
  {
   "cell_type": "code",
   "execution_count": null,
   "id": "3c934134",
   "metadata": {},
   "outputs": [],
   "source": [
    "churn.columns"
   ]
  },
  {
   "cell_type": "code",
   "execution_count": null,
   "id": "8e32d040",
   "metadata": {},
   "outputs": [],
   "source": [
    "features = ['Tenure','PreferredLoginDevice','CityTier','WarehouseToHome','SatisfactionScore',\n",
    "            'Complain','DaySinceLastOrder','CashbackAmount','FemaleMarried','FemaleSingle','MaleMarried','MaleSingle',\n",
    "           'Fashion','Grocery','Laptop & Accessory','Mobile','Mobile Phone']"
   ]
  },
  {
   "cell_type": "code",
   "execution_count": null,
   "id": "91d47202",
   "metadata": {},
   "outputs": [],
   "source": [
    "X = churn[features]\n",
    "y = churn['Churn']"
   ]
  },
  {
   "cell_type": "code",
   "execution_count": null,
   "id": "eff1febe",
   "metadata": {},
   "outputs": [],
   "source": [
    "from sklearn.model_selection import train_test_split\n",
    "X_train, X_test, y_train, y_test = train_test_split(X, y, test_size=0.33, random_state=42)"
   ]
  },
  {
   "cell_type": "markdown",
   "id": "feeb544c",
   "metadata": {},
   "source": [
    "### First, cross-validation!"
   ]
  },
  {
   "cell_type": "code",
   "execution_count": null,
   "id": "fe0feb01",
   "metadata": {},
   "outputs": [],
   "source": [
    "# Number of trees in random forest\n",
    "n_estimators = [int(x) for x in np.linspace(start = 200, stop = 2000, num = 10)]\n",
    "# Number of features to consider at every split\n",
    "max_features = ['auto', 'sqrt']\n",
    "# Maximum number of levels in tree\n",
    "max_depth = [int(x) for x in np.linspace(10, 110, num = 11)]\n",
    "max_depth.append(None)\n",
    "# Minimum number of samples required to split a node\n",
    "min_samples_split = [2, 5, 10]\n",
    "# Minimum number of samples required at each leaf node\n",
    "min_samples_leaf = [1, 2, 4]\n",
    "# Method of selecting samples for training each tree\n",
    "bootstrap = [True, False]\n",
    "\n",
    "\n",
    "# Create the random grid\n",
    "random_grid = {'n_estimators': n_estimators,\n",
    "               'max_features': max_features,\n",
    "               'max_depth': max_depth,\n",
    "               'min_samples_split': min_samples_split,\n",
    "               'min_samples_leaf': min_samples_leaf,\n",
    "               'bootstrap': bootstrap}\n"
   ]
  },
  {
   "cell_type": "code",
   "execution_count": null,
   "id": "2a23f23d",
   "metadata": {
    "scrolled": true
   },
   "outputs": [],
   "source": [
    "random_grid"
   ]
  },
  {
   "cell_type": "code",
   "execution_count": null,
   "id": "1f42903b",
   "metadata": {},
   "outputs": [],
   "source": [
    "from sklearn.ensemble import RandomForestClassifier\n",
    "from sklearn.model_selection import RandomizedSearchCV\n",
    "# First create the base model to tune\n",
    "rf = RandomForestClassifier()\n",
    "# Random search of parameters, using 3 fold cross validation, \n",
    "# search across 100 different combinations, and use all available cores\n",
    "rf_random = RandomizedSearchCV(estimator = rf, param_distributions = random_grid, n_iter = 100, cv = 3, verbose=2, random_state=42, n_jobs = -1)\n",
    "# Fit the random search model\n",
    "rf_random.fit(X_train, y_train)\n"
   ]
  },
  {
   "cell_type": "code",
   "execution_count": null,
   "id": "1ed717b6",
   "metadata": {},
   "outputs": [],
   "source": [
    "rf_random.best_params_"
   ]
  },
  {
   "cell_type": "markdown",
   "id": "17e1d2b9",
   "metadata": {},
   "source": [
    "### Model Training, it's as easy as 3 lines of code!"
   ]
  },
  {
   "cell_type": "code",
   "execution_count": null,
   "id": "b64accef",
   "metadata": {},
   "outputs": [],
   "source": [
    "rfc = RandomForestClassifier(n_estimators=1000,min_samples_split = 2, min_samples_leaf = 1, max_features = 'sqrt',\n",
    "                            max_depth = 50, bootstrap=False)\n",
    "rfc.fit(X_train, y_train)\n",
    " \n",
    "# making predictions on the testing set\n",
    "y_pred = rfc.predict(X_test)\n"
   ]
  },
  {
   "cell_type": "code",
   "execution_count": null,
   "id": "26a25145",
   "metadata": {},
   "outputs": [],
   "source": [
    "y_pred"
   ]
  },
  {
   "cell_type": "markdown",
   "id": "d2b97262",
   "metadata": {},
   "source": [
    "### Model Evaluation, Inference"
   ]
  },
  {
   "cell_type": "code",
   "execution_count": null,
   "id": "240880d8",
   "metadata": {},
   "outputs": [],
   "source": [
    "from sklearn import metrics\n",
    "print(\"Random Forest model accuracy:\", metrics.accuracy_score(y_test, y_pred))\n",
    "print(\"Random Forest F1 Score:\", metrics.f1_score(y_test, y_pred,average='macro'))"
   ]
  },
  {
   "cell_type": "code",
   "execution_count": null,
   "id": "4da5f136",
   "metadata": {
    "collapsed": true,
    "jupyter": {
     "outputs_hidden": true
    }
   },
   "outputs": [],
   "source": [
    "from sklearn import metrics\n",
    "print(\"Random Forest Confusion Matrix:\\n\", metrics.confusion_matrix(y_test, y_pred))\n",
    "print(\"Random Forest Precision\", metrics.precision_score(y_test, y_pred))\n",
    "print(\"Random Forest Recall\", metrics.recall_score(y_test, y_pred))\n"
   ]
  },
  {
   "cell_type": "markdown",
   "id": "7b26db0f",
   "metadata": {},
   "source": [
    "### What do we know, and what can we do?"
   ]
  },
  {
   "cell_type": "code",
   "execution_count": null,
   "id": "d6b67051",
   "metadata": {
    "scrolled": true
   },
   "outputs": [],
   "source": [
    "scores = rfc.predict_proba(X_test) \n",
    "fpr, tpr, thresholds = metrics.roc_curve(y_test, scores[:,1])"
   ]
  },
  {
   "cell_type": "code",
   "execution_count": null,
   "id": "410e7352",
   "metadata": {},
   "outputs": [],
   "source": [
    "scores"
   ]
  },
  {
   "cell_type": "code",
   "execution_count": null,
   "id": "76de0662",
   "metadata": {},
   "outputs": [],
   "source": [
    "# plot the roc curve for the model\n",
    "plt.plot([0,1], [0,1], linestyle='--', label='No Skill')\n",
    "plt.plot(fpr, tpr, marker='.', label='Logistic')\n",
    "# axis labels\n",
    "plt.xlabel('False Positive Rate')\n",
    "plt.ylabel('True Positive Rate')\n",
    "plt.legend()\n",
    "# show the plot\n",
    "plt.show()"
   ]
  },
  {
   "cell_type": "code",
   "execution_count": null,
   "id": "8c99c477",
   "metadata": {},
   "outputs": [],
   "source": [
    "J = tpr - fpr\n",
    "ix = np.argmax(J)\n",
    "best_thresh = thresholds[ix]\n",
    "print('Best Threshold=%f' % (best_thresh))"
   ]
  },
  {
   "cell_type": "code",
   "execution_count": null,
   "id": "4fc798da",
   "metadata": {},
   "outputs": [],
   "source": [
    "### Exercise: how do we obtain updated predictions?\n",
    "y_predstar = (scores[:,1] >= best_thresh).astype('int')\n"
   ]
  },
  {
   "cell_type": "code",
   "execution_count": null,
   "id": "542a88fa",
   "metadata": {},
   "outputs": [],
   "source": [
    "y_predstar"
   ]
  },
  {
   "cell_type": "code",
   "execution_count": null,
   "id": "589547c0",
   "metadata": {},
   "outputs": [],
   "source": [
    "print(\"Random Forest model accuracy:\", metrics.accuracy_score(y_test, y_predstar))\n",
    "print(\"Random Forest F1 Score:\", metrics.f1_score(y_test, y_predstar,average='macro'))"
   ]
  },
  {
   "cell_type": "code",
   "execution_count": null,
   "id": "14717d25",
   "metadata": {},
   "outputs": [],
   "source": [
    "print(\"Random Forest Confusion Matrix:\\n\", metrics.confusion_matrix(y_test, y_predstar))\n",
    "print(\"Random Forest Precision\", metrics.precision_score(y_test, y_predstar))\n",
    "print(\"Random Forest Recall\", metrics.recall_score(y_test, y_predstar))\n"
   ]
  },
  {
   "cell_type": "code",
   "execution_count": null,
   "id": "652ecc38",
   "metadata": {},
   "outputs": [],
   "source": [
    "importances = rfc.feature_importances_\n",
    "std = np.std([tree.feature_importances_ for tree in rfc.estimators_], axis=0)"
   ]
  },
  {
   "cell_type": "code",
   "execution_count": null,
   "id": "aad1cb9d",
   "metadata": {},
   "outputs": [],
   "source": [
    "forest_importances = pd.Series(importances, index=features)\n",
    "\n",
    "fig, ax = plt.subplots()\n",
    "forest_importances.plot.bar(yerr=std, ax=ax)\n",
    "ax.set_title(\"Feature importances using MDI\")\n",
    "ax.set_ylabel(\"Mean decrease in impurity\")\n",
    "fig.tight_layout()\n"
   ]
  },
  {
   "cell_type": "code",
   "execution_count": null,
   "id": "26c2cad8",
   "metadata": {},
   "outputs": [],
   "source": []
  }
 ],
 "metadata": {
  "kernelspec": {
   "display_name": "Python 3 (ipykernel)",
   "language": "python",
   "name": "python3"
  },
  "language_info": {
   "codemirror_mode": {
    "name": "ipython",
    "version": 3
   },
   "file_extension": ".py",
   "mimetype": "text/x-python",
   "name": "python",
   "nbconvert_exporter": "python",
   "pygments_lexer": "ipython3",
   "version": "3.11.5"
  }
 },
 "nbformat": 4,
 "nbformat_minor": 5
}
